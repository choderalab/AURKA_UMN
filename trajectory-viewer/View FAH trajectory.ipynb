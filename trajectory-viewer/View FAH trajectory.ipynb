{
 "cells": [
  {
   "cell_type": "markdown",
   "metadata": {},
   "source": [
    "This notebook requires:\n",
    "* jupyter\n",
    "* nglview\n",
    "* matplotlib\n",
    "* seaborn\n",
    "* mdtraj\n",
    "\n",
    "Copy data from cluster with:\n",
    "\n",
    "scp -rC chodera@hal.cbio.mskcc.org:/cbio/jclab/projects/behrj/AURKA_UMN/output-11414/data/11414_\"*\"_284-225_SB_total.npy .\n",
    "\n",
    "for (projects 11414, 11418, 11419, 11423)\n",
    "\n",
    "mdconvert -o trajectory.pdb -i 0 trajectory.h5\n",
    "mdconvert -o trajectory.dcd trajectory.h5\n"
   ]
  },
  {
   "cell_type": "code",
   "execution_count": 37,
   "metadata": {
    "collapsed": true
   },
   "outputs": [],
   "source": [
    "%matplotlib inline"
   ]
  },
  {
   "cell_type": "code",
   "execution_count": 1,
   "metadata": {
    "collapsed": true
   },
   "outputs": [],
   "source": [
    "import nglview\n",
    "import mdtraj"
   ]
  },
  {
   "cell_type": "code",
   "execution_count": 7,
   "metadata": {
    "collapsed": false
   },
   "outputs": [],
   "source": [
    "def retrieve_trajectory(project, run, clone):\n",
    "    print(\"Retrieving project %d run %d clone %d...\" % (project, run, clone))\n",
    "    # Copy the trajectory locally.\n",
    "    import os\n",
    "    os.system(\"scp -C chodera@hal.cbio.mskcc.org:/cbio/jclab/projects/fah/fah-data/munged3/no-solvent/%d/run%d-clone%d.h5 trajectory.h5\" % (project, run, clone))\n",
    "    # Load and return it.\n",
    "    import mdtraj as md\n",
    "    traj = md.load('trajectory.h5')\n",
    "    # Image trajectory\n",
    "    print('Imaging molecules...')\n",
    "    traj.image_molecules(inplace=True)\n",
    "    # Align trajectory\n",
    "    print('Aligning to first frame...')\n",
    "    traj.superpose(traj,0)\n",
    "    print('Done.')\n",
    "    return traj    "
   ]
  },
  {
   "cell_type": "code",
   "execution_count": 65,
   "metadata": {
    "collapsed": true
   },
   "outputs": [],
   "source": [
    "def view_trajectory(traj):\n",
    "    import nglview as nv\n",
    "    view = nglview.show_mdtraj(traj.superpose(traj,0))\n",
    "    #view.component_0.clear_representations()\n",
    "    #view.component_0.add_cartoon()\n",
    "    view.add_representation('cartoon', selection='protein', color='green')\n",
    "    view.add_representation('cartoon', selection='1-42', color='yellow')\n",
    "    #activation_loop = traj.top.select(\"(resSeq >= 281) and (resSeq <= 293)\")\n",
    "    activation_loop = '281-293'\n",
    "    view.add_representation('cartoon', selection=activation_loop, color='red')    \n",
    "    view.add_representation('licorice', selection='288', color='purple')    \n",
    "    view.add_representation('licorice', selection='284', color='blue')    \n",
    "    view.add_representation('licorice', selection='225', color='blue')    \n",
    "    return view"
   ]
  },
  {
   "cell_type": "code",
   "execution_count": 52,
   "metadata": {
    "collapsed": false
   },
   "outputs": [
    {
     "name": "stdout",
     "output_type": "stream",
     "text": [
      "Retrieving project 11414 run 0 clone 38...\n",
      "Imating molecules...\n",
      "Aligning to first frame...\n",
      "Done.\n"
     ]
    }
   ],
   "source": []
  },
  {
   "cell_type": "code",
   "execution_count": 66,
   "metadata": {
    "collapsed": false
   },
   "outputs": [],
   "source": []
  },
  {
   "cell_type": "code",
   "execution_count": 40,
   "metadata": {
    "collapsed": false
   },
   "outputs": [
    {
     "name": "stdout",
     "output_type": "stream",
     "text": [
      "(50, 2000)\n"
     ]
    }
   ],
   "source": []
  },
  {
   "cell_type": "code",
   "execution_count": 5,
   "metadata": {
    "collapsed": false
   },
   "outputs": [
    {
     "name": "stdout",
     "output_type": "stream",
     "text": [
      "0\n"
     ]
    },
    {
     "data": {
      "text/plain": [
       "array([ 1.84588623,  0.89477754,  1.4230752 ,  1.37432861,  1.72125435,\n",
       "        1.20619512,  1.32856297,  1.12289524,  1.29979396,  1.28352094,\n",
       "        1.21109509,  1.20704603,  1.1409204 ,  0.95874262,  1.27369094,\n",
       "        1.67899585,  1.04992366,  1.09516358,  1.15380406,  1.30938935,\n",
       "        1.51763964,  1.53876829,  1.22887039,  1.30286717,  1.44792557,\n",
       "        1.46949124,  0.90853786,  1.35938978,  1.25983167,  1.24318957,\n",
       "        0.93902826,  1.05955768,  1.31215453,  1.56535673,  1.16514754,\n",
       "        1.1187346 ,  1.27911377,  1.26278973,  1.30418324,  1.21268106,\n",
       "        1.09729838,  1.38353729,  1.29362321,  0.92239261,  1.32041502,\n",
       "        1.40528321,  1.22035456,  1.4692471 ,  1.3300271 ,  1.29697156], dtype=float32)"
      ]
     },
     "execution_count": 5,
     "metadata": {},
     "output_type": "execute_result"
    }
   ],
   "source": [
    "project = 11418\n",
    "run = 0\n",
    "\n",
    "# find clone with maximum range\n",
    "import numpy as np\n",
    "dist = np.load('%d_%d_284-225_SB_total.npy' % (project, run))\n",
    "dist = dist[:,:,0]\n",
    "nclones = dist.shape[0]\n",
    "dist_range = dist.max(1) - dist.min(1)\n",
    "clone = np.argmax(dist_range)\n",
    "print(clone)\n",
    "dist_range"
   ]
  },
  {
   "cell_type": "code",
   "execution_count": 4,
   "metadata": {
    "collapsed": false
   },
   "outputs": [],
   "source": [
    "import matplotlib as mpl\n",
    "import matplotlib.pyplot as plt\n",
    "plt.figure(figsize=(10,10))\n",
    "plt.plot(dist.T,'.');"
   ]
  },
  {
   "cell_type": "code",
   "execution_count": 70,
   "metadata": {
    "collapsed": false
   },
   "outputs": [],
   "source": []
  },
  {
   "cell_type": "code",
   "execution_count": 72,
   "metadata": {
    "collapsed": false
   },
   "outputs": [],
   "source": []
  },
  {
   "cell_type": "code",
   "execution_count": 8,
   "metadata": {
    "collapsed": false
   },
   "outputs": [
    {
     "name": "stdout",
     "output_type": "stream",
     "text": [
      "Retrieving project 11418 run 0 clone 0...\n",
      "Imaging molecules...\n",
      "Aligning to first frame...\n",
      "Done.\n"
     ]
    }
   ],
   "source": [
    "# AurA WT +Tpx2\n",
    "#traj = retrieve_trajectory(11414, 0, 38)\n",
    "# AurA WT -Tpx2\n",
    "traj = retrieve_trajectory(11418, 0, 0)"
   ]
  },
  {
   "cell_type": "code",
   "execution_count": null,
   "metadata": {
    "collapsed": true
   },
   "outputs": [],
   "source": [
    "view_trajectory(traj)"
   ]
  },
  {
   "cell_type": "code",
   "execution_count": 9,
   "metadata": {
    "collapsed": true
   },
   "outputs": [],
   "source": [
    "traj[0].save('trajectory.pdb')\n",
    "traj.save('trajectory.dcd')"
   ]
  },
  {
   "cell_type": "code",
   "execution_count": null,
   "metadata": {
    "collapsed": true
   },
   "outputs": [],
   "source": []
  }
 ],
 "metadata": {
  "kernelspec": {
   "display_name": "Python 2",
   "language": "python",
   "name": "python2"
  },
  "language_info": {
   "codemirror_mode": {
    "name": "ipython",
    "version": 2
   },
   "file_extension": ".py",
   "mimetype": "text/x-python",
   "name": "python",
   "nbconvert_exporter": "python",
   "pygments_lexer": "ipython2",
   "version": "2.7.12"
  }
 },
 "nbformat": 4,
 "nbformat_minor": 0
}
