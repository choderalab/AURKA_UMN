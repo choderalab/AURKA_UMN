{
 "cells": [
  {
   "cell_type": "code",
   "execution_count": 1,
   "metadata": {
    "collapsed": true
   },
   "outputs": [],
   "source": [
    "%matplotlib inline"
   ]
  },
  {
   "cell_type": "code",
   "execution_count": 1,
   "metadata": {},
   "outputs": [],
   "source": [
    "import nglview\n",
    "import mdtraj\n",
    "import urllib.request"
   ]
  },
  {
   "cell_type": "code",
   "execution_count": 2,
   "metadata": {},
   "outputs": [],
   "source": [
    "# Retrieve trajectory from URL and open it with MDTraj\n",
    "url = 'http://140.163.4.230:8080/11431/run0-clone0.h5'\n",
    "local_trajectory_filename = \"trajectory.h5\""
   ]
  },
  {
   "cell_type": "code",
   "execution_count": null,
   "metadata": {
    "collapsed": true
   },
   "outputs": [],
   "source": [
    "urllib.request.urlretrieve(url, local_trajectory_filename)"
   ]
  },
  {
   "cell_type": "code",
   "execution_count": 3,
   "metadata": {},
   "outputs": [
    {
     "data": {
      "text/plain": [
       "<mdtraj.Trajectory with 2680 frames, 4486 atoms, 288 residues, and unitcells at 0x10e6176a0>"
      ]
     },
     "execution_count": 3,
     "metadata": {},
     "output_type": "execute_result"
    }
   ],
   "source": [
    "traj = mdtraj.load_hdf5(local_trajectory_filename)\n",
    "traj.image_molecules(inplace=True)\n",
    "traj.superpose(traj, frame=0) "
   ]
  },
  {
   "cell_type": "code",
   "execution_count": 4,
   "metadata": {},
   "outputs": [],
   "source": [
    "# Visualize the trajectory\n",
    "view = nglview.show_mdtraj(traj)"
   ]
  },
  {
   "cell_type": "code",
   "execution_count": 6,
   "metadata": {},
   "outputs": [],
   "source": [
    "aurora = traj.top.select('chainid 0')\n",
    "tpx2 = traj.top.select('chainid 1')\n",
    "\n",
    "view.clear_representations()\n",
    "view.add_spacefill(selection='resn ADP')\n",
    "view.add_cartoon(selection=aurora, color='green')\n",
    "view.add_cartoon(selection=tpx2, color='red')\n",
    "$view.add_representation('licorice', selection=DFG)"
   ]
  },
  {
   "cell_type": "code",
   "execution_count": 7,
   "metadata": {},
   "outputs": [
    {
     "data": {
      "text/plain": [
       "array([4426, 4427, 4428, 4429, 4430, 4431, 4432, 4433, 4434, 4435, 4436,\n",
       "       4437, 4438, 4439, 4440, 4441, 4442, 4443, 4444, 4445, 4446, 4447,\n",
       "       4448, 4449, 4450, 4451, 4452, 4453, 4454, 4455, 4456, 4457, 4458,\n",
       "       4459, 4460, 4461, 4462, 4463, 4464])"
      ]
     },
     "execution_count": 7,
     "metadata": {},
     "output_type": "execute_result"
    }
   ],
   "source": [
    "tpx2"
   ]
  },
  {
   "cell_type": "code",
   "execution_count": 8,
   "metadata": {},
   "outputs": [
    {
     "data": {
      "application/vnd.jupyter.widget-view+json": {
       "model_id": "bc392406fdfc45c19badd4e7c80a7604"
      }
     },
     "metadata": {},
     "output_type": "display_data"
    }
   ],
   "source": [
    "view"
   ]
  },
  {
   "cell_type": "code",
   "execution_count": null,
   "metadata": {
    "collapsed": true
   },
   "outputs": [],
   "source": [
    "# Try adding a component\n",
    "view.add_component('http://140.163.4.230:8080/11431/run0-clone0.h5')"
   ]
  }
 ],
 "metadata": {
  "kernelspec": {
   "display_name": "Python 3",
   "language": "python",
   "name": "python3"
  },
  "language_info": {
   "codemirror_mode": {
    "name": "ipython",
    "version": 3
   },
   "file_extension": ".py",
   "mimetype": "text/x-python",
   "name": "python",
   "nbconvert_exporter": "python",
   "pygments_lexer": "ipython3",
   "version": "3.5.2"
  }
 },
 "nbformat": 4,
 "nbformat_minor": 2
}
